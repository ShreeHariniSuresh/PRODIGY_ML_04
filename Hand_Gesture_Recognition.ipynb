{
 "cells": [
  {
   "cell_type": "code",
   "execution_count": 1,
   "id": "a2156374",
   "metadata": {},
   "outputs": [
    {
     "name": "stdout",
     "output_type": "stream",
     "text": [
      "WARNING:tensorflow:From C:\\Users\\shree\\anaconda3\\Lib\\site-packages\\keras\\src\\losses.py:2976: The name tf.losses.sparse_softmax_cross_entropy is deprecated. Please use tf.compat.v1.losses.sparse_softmax_cross_entropy instead.\n",
      "\n"
     ]
    }
   ],
   "source": [
    "# Import necessary libraries\n",
    "import os\n",
    "import zipfile\n",
    "import tensorflow as tf\n",
    "from tensorflow.keras.preprocessing.image import ImageDataGenerator\n",
    "from tensorflow.keras import layers, models"
   ]
  },
  {
   "cell_type": "code",
   "execution_count": 2,
   "id": "8d2d3138",
   "metadata": {},
   "outputs": [],
   "source": [
    "\n",
    "# Extract the dataset\n",
    "with zipfile.ZipFile(\"GestRepo.zip\", 'r') as zip_ref:\n",
    "    zip_ref.extractall(\"hand_gestures_dataset\")\n",
    "\n",
    "# Define the paths to your dataset\n",
    "dataset_dir = 'hand_gestures_dataset'"
   ]
  },
  {
   "cell_type": "code",
   "execution_count": 3,
   "id": "ec4024a7",
   "metadata": {},
   "outputs": [],
   "source": [
    "# Data preprocessing and augmentation\n",
    "datagen = ImageDataGenerator(\n",
    "    rescale=1./255,\n",
    "    shear_range=0.2,\n",
    "    zoom_range=0.2,\n",
    "    horizontal_flip=True\n",
    ")"
   ]
  },
  {
   "cell_type": "code",
   "execution_count": 8,
   "id": "e878817c",
   "metadata": {},
   "outputs": [
    {
     "name": "stdout",
     "output_type": "stream",
     "text": [
      "Found 40000 images belonging to 1 classes.\n",
      "Found 40000 images belonging to 1 classes.\n"
     ]
    }
   ],
   "source": [
    "\n",
    "# Load and augment the dataset\n",
    "image_size = (128, 128)\n",
    "batch_size = 32\n",
    "\n",
    "\n",
    "\n",
    "\n",
    "# Load and augment the dataset\n",
    "image_size = (128, 128)\n",
    "batch_size = 32\n",
    "\n",
    "train_generator = datagen.flow_from_directory(\n",
    "    os.path.join(dataset_dir),\n",
    "    target_size=image_size,\n",
    "    batch_size=batch_size,\n",
    "    class_mode='categorical'\n",
    ")\n",
    "\n",
    "test_generator = datagen.flow_from_directory(\n",
    "    os.path.join(dataset_dir),\n",
    "    target_size=image_size,\n",
    "    batch_size=batch_size,\n",
    "    class_mode='categorical'\n",
    ")"
   ]
  },
  {
   "cell_type": "code",
   "execution_count": 10,
   "id": "7ec44b71",
   "metadata": {},
   "outputs": [],
   "source": [
    "\n",
    "# Build the CNN model\n",
    "model = models.Sequential()\n",
    "model.add(layers.Conv2D(32, (3, 3), activation='relu', input_shape=(128, 128, 3)))\n",
    "model.add(layers.MaxPooling2D((2, 2)))\n",
    "model.add(layers.Conv2D(64, (3, 3), activation='relu'))\n",
    "model.add(layers.MaxPooling2D((2, 2)))\n",
    "model.add(layers.Conv2D(128, (3, 3), activation='relu'))\n",
    "model.add(layers.MaxPooling2D((2, 2)))\n",
    "model.add(layers.Flatten())\n",
    "model.add(layers.Dense(128, activation='relu'))\n",
    "\n"
   ]
  },
  {
   "cell_type": "code",
   "execution_count": 11,
   "id": "7c14041c",
   "metadata": {},
   "outputs": [
    {
     "name": "stdout",
     "output_type": "stream",
     "text": [
      "WARNING:tensorflow:From C:\\Users\\shree\\anaconda3\\Lib\\site-packages\\keras\\src\\optimizers\\__init__.py:309: The name tf.train.Optimizer is deprecated. Please use tf.compat.v1.train.Optimizer instead.\n",
      "\n"
     ]
    }
   ],
   "source": [
    "# Compile the model\n",
    "model.compile(optimizer='adam',\n",
    "              loss='categorical_crossentropy',\n",
    "              metrics=['accuracy'])"
   ]
  },
  {
   "cell_type": "code",
   "execution_count": 12,
   "id": "f118cce4",
   "metadata": {},
   "outputs": [
    {
     "name": "stdout",
     "output_type": "stream",
     "text": [
      "Epoch 1/10\n",
      "WARNING:tensorflow:From C:\\Users\\shree\\anaconda3\\Lib\\site-packages\\keras\\src\\utils\\tf_utils.py:492: The name tf.ragged.RaggedTensorValue is deprecated. Please use tf.compat.v1.ragged.RaggedTensorValue instead.\n",
      "\n",
      "WARNING:tensorflow:From C:\\Users\\shree\\anaconda3\\Lib\\site-packages\\keras\\src\\engine\\base_layer_utils.py:384: The name tf.executing_eagerly_outside_functions is deprecated. Please use tf.compat.v1.executing_eagerly_outside_functions instead.\n",
      "\n",
      "1250/1250 [==============================] - 1460s 1s/step - loss: 787.3994 - accuracy: 0.0854 - val_loss: 786.3710 - val_accuracy: 0.0967\n",
      "Epoch 2/10\n",
      "1250/1250 [==============================] - 1888s 2s/step - loss: 786.3710 - accuracy: 0.0801 - val_loss: 786.3708 - val_accuracy: 0.0688\n",
      "Epoch 3/10\n",
      "1250/1250 [==============================] - 40158s 32s/step - loss: 761.0317 - accuracy: 0.0968 - val_loss: 755.1918 - val_accuracy: 0.0227\n",
      "Epoch 4/10\n",
      "1250/1250 [==============================] - 2558s 2s/step - loss: 755.1918 - accuracy: 0.0279 - val_loss: 755.1918 - val_accuracy: 0.0024\n",
      "Epoch 5/10\n",
      "1250/1250 [==============================] - 4342s 3s/step - loss: 755.1918 - accuracy: 0.0111 - val_loss: 755.1918 - val_accuracy: 0.0360\n",
      "Epoch 6/10\n",
      "1250/1250 [==============================] - 1258s 1s/step - loss: 755.1918 - accuracy: 0.0057 - val_loss: 755.1918 - val_accuracy: 0.0033\n",
      "Epoch 7/10\n",
      "1250/1250 [==============================] - 787s 629ms/step - loss: 755.1918 - accuracy: 0.0038 - val_loss: 755.1918 - val_accuracy: 5.0000e-04\n",
      "Epoch 8/10\n",
      "1250/1250 [==============================] - 813s 650ms/step - loss: 755.1918 - accuracy: 0.0027 - val_loss: 755.1918 - val_accuracy: 2.5000e-05\n",
      "Epoch 9/10\n",
      "1250/1250 [==============================] - 5667s 5s/step - loss: 755.1918 - accuracy: 0.0010 - val_loss: 755.1918 - val_accuracy: 0.0000e+00\n",
      "Epoch 10/10\n",
      "1250/1250 [==============================] - 2425s 2s/step - loss: 755.1918 - accuracy: 0.0042 - val_loss: 755.1918 - val_accuracy: 0.0041\n"
     ]
    },
    {
     "data": {
      "text/plain": [
       "<keras.src.callbacks.History at 0x2915a3b7610>"
      ]
     },
     "execution_count": 12,
     "metadata": {},
     "output_type": "execute_result"
    }
   ],
   "source": [
    "# Train the model\n",
    "model.fit(train_generator, epochs=10, validation_data=test_generator)"
   ]
  },
  {
   "cell_type": "code",
   "execution_count": 16,
   "id": "451a13db",
   "metadata": {},
   "outputs": [
    {
     "name": "stdout",
     "output_type": "stream",
     "text": [
      "1250/1250 [==============================] - 495s 396ms/step\n",
      "Confusion Matrix:\n",
      "[[ 168    6   21 ...   13 1560   18]\n",
      " [   0    0    0 ...    0    0    0]\n",
      " [   0    0    0 ...    0    0    0]\n",
      " ...\n",
      " [   0    0    0 ...    0    0    0]\n",
      " [   0    0    0 ...    0    0    0]\n",
      " [   0    0    0 ...    0    0    0]]\n",
      "\n",
      "Classification Report:\n",
      "              precision    recall  f1-score   support\n",
      "\n",
      "           0       1.00      0.00      0.01     40000\n",
      "\n",
      "   micro avg       1.00      0.00      0.01     40000\n",
      "   macro avg       1.00      0.00      0.01     40000\n",
      "weighted avg       1.00      0.00      0.01     40000\n",
      "\n"
     ]
    }
   ],
   "source": [
    "\n",
    "# Evaluate the model and print confusion matrix\n",
    "from sklearn.metrics import confusion_matrix, classification_report\n",
    "import numpy as np\n",
    "\n",
    "# Generate predictions\n",
    "Y_pred = model.predict(test_generator)\n",
    "y_pred = np.argmax(Y_pred, axis=1)  # Assuming the model output is one-hot encoded\n",
    "\n",
    "# Get true labels\n",
    "y_true = test_generator.classes\n",
    "\n",
    "# Print confusion matrix and classification report\n",
    "conf_matrix = confusion_matrix(y_true, y_pred)\n",
    "print(\"Confusion Matrix:\")\n",
    "print(conf_matrix)\n",
    "\n",
    "class_report = classification_report(y_true, y_pred, labels=np.unique(y_true))\n",
    "print(\"\\nClassification Report:\")\n",
    "print(class_report)\n"
   ]
  },
  {
   "cell_type": "code",
   "execution_count": null,
   "id": "0a8c4702",
   "metadata": {},
   "outputs": [],
   "source": []
  }
 ],
 "metadata": {
  "kernelspec": {
   "display_name": "Python 3 (ipykernel)",
   "language": "python",
   "name": "python3"
  },
  "language_info": {
   "codemirror_mode": {
    "name": "ipython",
    "version": 3
   },
   "file_extension": ".py",
   "mimetype": "text/x-python",
   "name": "python",
   "nbconvert_exporter": "python",
   "pygments_lexer": "ipython3",
   "version": "3.11.5"
  }
 },
 "nbformat": 4,
 "nbformat_minor": 5
}
